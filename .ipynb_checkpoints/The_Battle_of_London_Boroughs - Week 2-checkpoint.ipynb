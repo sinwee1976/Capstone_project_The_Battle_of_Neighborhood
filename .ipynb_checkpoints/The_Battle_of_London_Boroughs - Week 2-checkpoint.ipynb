{
 "cells": [
  {
   "cell_type": "markdown",
   "metadata": {},
   "source": [
    "# Capstone Project - The Battle of the Neighborhoods (Week 2)\n",
    "### Applied Data Science Capstone by IBM/Coursera"
   ]
  },
  {
   "cell_type": "markdown",
   "metadata": {},
   "source": [
    "## <span style=\"color:darkred\">Table of contents</span>\n",
    "* [Introduction: Business Problem](#introduction)\n",
    "* [Data](#data)\n",
    "* [Methodology](#methodology)\n",
    "* [Analysis](#analysis)\n",
    "* [Results and Discussion](#results)\n",
    "* [Conclusion](#conclusion)"
   ]
  },
  {
   "cell_type": "markdown",
   "metadata": {},
   "source": [
    "## <span style=\"color:darkred\"> 1. Introduction: Business Problem <a name=\"introduction\"></a></span>"
   ]
  },
  {
   "cell_type": "markdown",
   "metadata": {},
   "source": [
    "In this project, we will investigate the influence of poverty rate to the facilities and amenities of certain borough and how this insights can provide targeting local and business development for London boroughs. It will be interesting to see how poverty impacts the facilities, venues and amenities available in the boroughs. \n",
    "\n",
    "<br><br>\n",
    "<center><img src=\"poverty_rate.jpg\"\n",
    "     alt=\"London Poverty Rates\"\n",
    "     width = \"700\"\n",
    "     style=\"float: centre; margin-left: 10px;\" /></center><br><br>\n",
    "\n",
    "\n",
    "This will be done by carrying out a comparative studies on the facilities and amenities between the two boroughs with the highest income rate and the lowest in London, **Tower Hamlet (TH)** borough and **Bromley (Brom)** borough of London, as shown in the figure above.  \n",
    "\n",
    "We will use the data science principles and techniques learned to generate a model of these boroughs, looking at the venues and facilities available in these areas and provides insights to stakeholders, the local authorities and business chambers of commerce.\n",
    "\n",
    "### Questions to answer:\n",
    "\n",
    "1.\tWhat types of facilities (venues) and amenities are available in the area with different poverty line?\n",
    "2.\tHow venues changing based on the spending power?\n",
    "3.\tWhat are the distinctive venues that represent in these boroughs?\n",
    "4.\tSuggestions and recommendations. \n",
    "\n",
    "By answering the above questions, the findings can be used for the targeting development for the rest of the London Boroughs so that unnecessary development can be avoided and overall budget can be sustained."
   ]
  },
  {
   "cell_type": "markdown",
   "metadata": {},
   "source": [
    "======================================================================================================================== "
   ]
  },
  {
   "cell_type": "markdown",
   "metadata": {},
   "source": [
    "## <span style=\"color:darkred\">2. Data <a name=\"data\"></a></span>"
   ]
  },
  {
   "cell_type": "markdown",
   "metadata": {},
   "source": [
    "Based on the problem definition, factors that will influence the decision in this project will be:\n",
    "\n",
    "* number and the type of venues and facilities available in the suurounding area of these boroughs\n",
    "* the most frequent venues and facilties for each boroughs\n",
    "\n",
    "To define the surrounding area of the borough, we will be using:\n",
    "* London Boroughs poverty information from: **https://www.trustforlondon.org.uk/data/poverty-borough**. *Accessed: 11/03/2019*\n",
    "* latitudes and longitudes of Tower Hamlet and Bromley  obtained from: **https://www.distancesto.com/coordinates/gb/**. *Accessed: 11/03/2019*  \n",
    "* venues, type and locations in every borough will be obtained using **Foursquare API**\n",
    "\n",
    "Further information of the boroughs can be found at:\n",
    "* Bromley: **https://en.wikipedia.org/wiki/London_Borough_of_Bromley** \n",
    "* Tower Hamlet: **https://en.wikipedia.org/wiki/London_Borough_of_Tower_Hamlets**"
   ]
  },
  {
   "cell_type": "code",
   "execution_count": null,
   "metadata": {},
   "outputs": [],
   "source": []
  },
  {
   "cell_type": "raw",
   "metadata": {},
   "source": []
  },
  {
   "cell_type": "markdown",
   "metadata": {},
   "source": [
    "## Boroughs Locations \n",
    "Based on the information obtained from https://www.distancesto.com/coordinates/gb/, the latitude and the longitude of TM and Brom are as follows:"
   ]
  },
  {
   "cell_type": "code",
   "execution_count": null,
   "metadata": {},
   "outputs": [],
   "source": [
    "TH_coordinates = (51.520261, -0.02934)\n",
    "BROM_coordinates = (51.367971, 0.070062)\n",
    "london_coordinates = (51.509865, -0.118092)"
   ]
  },
  {
   "cell_type": "markdown",
   "metadata": {},
   "source": [
    "Let's visualise the locations of these boroughs on London map:"
   ]
  },
  {
   "cell_type": "code",
   "execution_count": null,
   "metadata": {
    "scrolled": false
   },
   "outputs": [],
   "source": [
    "import folium\n",
    "from folium.features import DivIcon\n",
    "\n",
    "london_map = folium.Map(location = london_coordinates, zoom_start = 10)\n",
    "\n",
    "folium.Circle(\n",
    "    radius=2500,   # the radius is calculated based on the area coverage of the borough \n",
    "    location= TH_coordinates,\n",
    "    color= 'crimson',\n",
    "    fill=False,\n",
    ").add_to(london_map)\n",
    "\n",
    "folium.Marker(\n",
    "    TH_coordinates, \n",
    "    popup=('Tower Hamlet'), \n",
    "    icon=folium.Icon(color='crimson', \n",
    "    icon_color='white', icon='info-sign', angle=0, prefix='fa')\n",
    ").add_to(london_map)\n",
    "\n",
    "folium.Circle(\n",
    "    radius=6900, # the radius is calculated based on the area coverage of the borough \n",
    "    location= BROM_coordinates, \n",
    "    popup = 'Bromley',\n",
    "    color='darkblue',\n",
    "    fill=False,\n",
    ").add_to(london_map)\n",
    "\n",
    "folium.Marker(\n",
    "    BROM_coordinates, \n",
    "    popup=('Bromley'), \n",
    "    icon=folium.Icon(color='darkblue', \n",
    "    icon_color='white', icon='info-sign', angle=0, prefix='fa')\n",
    ").add_to(london_map)\n",
    "\n",
    "\n",
    "\n",
    "london_map"
   ]
  },
  {
   "cell_type": "markdown",
   "metadata": {},
   "source": [
    "Preliminary observations from the above map show that based on the locations for the two boroughs, Tower Hamlet is located very near to the London centre, where as Bromley borough located at the boundary of the M25 Ringroad, which is about 2 hours drive from London centre. In terms of area size, Tower Hamlet convers about 19.77km2 and Bromley is about 150.2km2. Based on these information, we can used them as distance references when retrieving venues, type and locations  using Foursquare API."
   ]
  },
  {
   "cell_type": "markdown",
   "metadata": {},
   "source": [
    "## Foursquare API\n",
    "\n",
    "Now that we have our location candidates, let's use Foursquare API to get info on venues in each of the borough\n",
    "\n",
    "As an exploratory project, we will retrieve the venues based on the areas of each borough. We will then do the neccesary manipulations and analysis to achieve our objectives.  "
   ]
  },
  {
   "cell_type": "markdown",
   "metadata": {},
   "source": [
    "### Define Foursquare Credential and Version "
   ]
  },
  {
   "cell_type": "code",
   "execution_count": null,
   "metadata": {},
   "outputs": [],
   "source": [
    "CLIENT_ID = 'VB4GSHAOKEPLPPVS0VBVRAXL3DXVHHTRU3BJ4X4NJSGSF3R4' # your Foursquare ID\n",
    "CLIENT_SECRET = '0N21QNS5SLASFGZFAGYFVAGKCE15NM40N2ZOXLAHS50KHICP' # your Foursquare Secret\n",
    "VERSION = '20180605' # Foursquare API version\n",
    "\n",
    "print('Your credentails:')\n",
    "print('CLIENT_ID: ' + CLIENT_ID)\n",
    "print('CLIENT_SECRET:' + CLIENT_SECRET)"
   ]
  },
  {
   "cell_type": "markdown",
   "metadata": {},
   "source": [
    "### Tower Hamlet: Let's get the top venues that are in Tower Hamlet within a radius of 2500 meters "
   ]
  },
  {
   "cell_type": "code",
   "execution_count": null,
   "metadata": {},
   "outputs": [],
   "source": [
    "# importing the neccesary libraries for the tasks \n",
    "\n",
    "from pandas.io.json import json_normalize # tranform JSON file into a pandas dataframe\n",
    "import pandas as pd\n",
    "import json # library to handle JSON files\n",
    "import requests # library to handle requests\n",
    "\n",
    "# Matplotlib and associated plotting modules\n",
    "import matplotlib.cm as cm\n",
    "import matplotlib.colors as colors\n",
    "import matplotlib.pyplot as plt\n",
    "%matplotlib inline "
   ]
  },
  {
   "cell_type": "code",
   "execution_count": null,
   "metadata": {},
   "outputs": [],
   "source": [
    "TH_latitude = 51.520261\n",
    "TH_longitude = -0.02934\n",
    "radius = 2500\n",
    "LIMIT = 100\n",
    "\n",
    "url = 'https://api.foursquare.com/v2/venues/explore?client_id={}&client_secret={}&ll={},{}&v={}&radius={}&limit={}'.format(CLIENT_ID, CLIENT_SECRET, TH_latitude, TH_longitude, VERSION, radius, LIMIT)\n",
    "url"
   ]
  },
  {
   "cell_type": "markdown",
   "metadata": {},
   "source": [
    "Send the GET request and examine the results of the retrieval from Foursquare API"
   ]
  },
  {
   "cell_type": "code",
   "execution_count": null,
   "metadata": {},
   "outputs": [],
   "source": [
    "TH_results = requests.get(url).json()\n",
    "TH_results"
   ]
  },
  {
   "cell_type": "code",
   "execution_count": null,
   "metadata": {},
   "outputs": [],
   "source": [
    "# function that extracts the category of the venue\n",
    "def get_category_type(row):\n",
    "    try:\n",
    "        categories_list = row['categories']\n",
    "    except:\n",
    "        categories_list = row['venue.categories']\n",
    "        \n",
    "    if len(categories_list) == 0:\n",
    "        return None\n",
    "    else:\n",
    "        return categories_list[0]['name']"
   ]
  },
  {
   "cell_type": "markdown",
   "metadata": {},
   "source": [
    "Now we are ready to clean the json and structure it into a pandas dataframe"
   ]
  },
  {
   "cell_type": "code",
   "execution_count": null,
   "metadata": {
    "scrolled": true
   },
   "outputs": [],
   "source": [
    "TH_venues = TH_results['response']['groups'][0]['items']\n",
    "    \n",
    "TH_nearby_venues = json_normalize(TH_venues) # flatten JSON\n",
    "\n",
    "# filter columns\n",
    "TH_filtered_columns = ['venue.name', 'venue.categories', 'venue.location.lat', 'venue.location.lng']\n",
    "TH_nearby_venues =TH_nearby_venues.loc[:, TH_filtered_columns]\n",
    "\n",
    "# filter the category for each row\n",
    "TH_nearby_venues['venue.categories'] = TH_nearby_venues.apply(get_category_type, axis=1)\n",
    "\n",
    "# clean columns\n",
    "TH_nearby_venues.columns = [col.split(\".\")[-1] for col in TH_nearby_venues.columns]\n",
    "\n",
    "TH_nearby_venues.head()"
   ]
  },
  {
   "cell_type": "code",
   "execution_count": null,
   "metadata": {},
   "outputs": [],
   "source": [
    "# Number of venues were returned by Foursquare\n",
    "print('{} venues in Tower Hamlet were returned by Foursquare.'.format(TH_nearby_venues.shape[0]))"
   ]
  },
  {
   "cell_type": "markdown",
   "metadata": {},
   "source": [
    "### Bromley: Let's get the top venues that are in Bromley within a radius of 6900 meters"
   ]
  },
  {
   "cell_type": "code",
   "execution_count": null,
   "metadata": {},
   "outputs": [],
   "source": [
    "BROM_latitude = 51.36797\n",
    "BROM_longitude = 0.070062\n",
    "radius = 6900\n",
    "LIMIT = 200\n",
    "\n",
    "url = 'https://api.foursquare.com/v2/venues/explore?client_id={}&client_secret={}&ll={},{}&v={}&radius={}&limit={}'.format(CLIENT_ID, CLIENT_SECRET, BROM_latitude,BROM_longitude, VERSION, radius, LIMIT)\n",
    "url"
   ]
  },
  {
   "cell_type": "markdown",
   "metadata": {},
   "source": [
    "Send the GET request and examine the results of the retrieval from Foursquare API"
   ]
  },
  {
   "cell_type": "code",
   "execution_count": null,
   "metadata": {},
   "outputs": [],
   "source": [
    "BROM_results = requests.get(url).json()\n",
    "BROM_results"
   ]
  },
  {
   "cell_type": "code",
   "execution_count": null,
   "metadata": {},
   "outputs": [],
   "source": [
    "# function that extracts the category of the venue\n",
    "def get_category_type(row):\n",
    "    try:\n",
    "        categories_list = row['categories']\n",
    "    except:\n",
    "        categories_list = row['venue.categories']\n",
    "        \n",
    "    if len(categories_list) == 0:\n",
    "        return None\n",
    "    else:\n",
    "        return categories_list[0]['name']"
   ]
  },
  {
   "cell_type": "markdown",
   "metadata": {},
   "source": [
    "Now we are ready to clean the json and structure it into a pandas dataframe"
   ]
  },
  {
   "cell_type": "code",
   "execution_count": null,
   "metadata": {},
   "outputs": [],
   "source": [
    "BROM_venues = BROM_results['response']['groups'][0]['items']\n",
    "    \n",
    "BROM_nearby_venues = json_normalize(BROM_venues) # flatten JSON\n",
    "\n",
    "# filter columns\n",
    "filtered_columns = ['venue.name', 'venue.categories', 'venue.location.lat', 'venue.location.lng']\n",
    "BROM_nearby_venues =BROM_nearby_venues.loc[:, filtered_columns]\n",
    "\n",
    "# filter the category for each row\n",
    "BROM_nearby_venues['venue.categories'] = BROM_nearby_venues.apply(get_category_type, axis=1)\n",
    "\n",
    "# clean columns\n",
    "BROM_nearby_venues.columns = [col.split(\".\")[-1] for col in BROM_nearby_venues.columns]\n",
    "\n",
    "BROM_nearby_venues.head()"
   ]
  },
  {
   "cell_type": "markdown",
   "metadata": {},
   "source": [
    "======================================================================================================================== "
   ]
  },
  {
   "cell_type": "code",
   "execution_count": null,
   "metadata": {
    "scrolled": false
   },
   "outputs": [],
   "source": [
    "# Number of venues were returned by Foursquare\n",
    "print('{} venues in Bromley were returned by Foursquare.'.format(BROM_nearby_venues.shape[0]))"
   ]
  },
  {
   "cell_type": "markdown",
   "metadata": {},
   "source": [
    "####  In summary:\n",
    "* Total venues in Tower Hamlet returned by Foursquare: **100**\n",
    "* Total venues in Bromley returned by Foursquare: **100**\n",
    "* Tower Hamlet venues dataframe is called: **TH_nearby_venues**\n",
    "* Tower Hamlet venues dataframe is called: **BROM_nearby_venues**"
   ]
  },
  {
   "cell_type": "markdown",
   "metadata": {},
   "source": [
    "### Create a map of London with venues of each borough on it."
   ]
  },
  {
   "cell_type": "code",
   "execution_count": null,
   "metadata": {},
   "outputs": [],
   "source": [
    "london_map = folium.Map(location = (51.476852, -0.000500), zoom_start = 10)\n",
    "\n",
    "# add Tower Hamlet markers to map\n",
    "for lat, lng, name, categories in zip(TH_nearby_venues['lat'], TH_nearby_venues['lng'], TH_nearby_venues['name'], TH_nearby_venues['categories']):\n",
    "    label = '{}, {}'.format(name, categories)\n",
    "    label = folium.Popup(label, parse_html=True)\n",
    "    folium.CircleMarker(\n",
    "        [lat, lng],\n",
    "        radius=5,\n",
    "        popup=label,\n",
    "        color='red',\n",
    "        fill=True,\n",
    "        fill_color='#3186cc',\n",
    "        fill_opacity=0.7,\n",
    "        parse_html=False).add_to(london_map)  \n",
    "    \n",
    "# add Tower Hamlet markers to map\n",
    "for lat, lng, name, categories in zip(BROM_nearby_venues['lat'], BROM_nearby_venues['lng'], BROM_nearby_venues['name'], BROM_nearby_venues['categories']):\n",
    "    label = '{}, {}'.format(name, categories)\n",
    "    label = folium.Popup(label, parse_html=True)\n",
    "    folium.CircleMarker(\n",
    "        [lat, lng],\n",
    "        radius=5,\n",
    "        popup=label,\n",
    "        color='darkblue',\n",
    "        fill=True,\n",
    "        fill_color='#3186cc',\n",
    "        fill_opacity=0.7,\n",
    "        parse_html=False).add_to(london_map)\n",
    "    \n",
    "folium.Circle(\n",
    "    radius=2500,   # the radius is calculated based on the area coverage of the borough \n",
    "    location= TH_coordinates,\n",
    "    color= 'crimson',\n",
    "    fill=False,\n",
    ").add_to(london_map)\n",
    "\n",
    "folium.Circle(\n",
    "    radius=6900, # the radius is calculated based on the area coverage of the borough \n",
    "    location= BROM_coordinates, \n",
    "    popup = 'Bromley',\n",
    "    color='darkblue',\n",
    "    fill=False,\n",
    ").add_to(london_map)\n",
    "\n",
    "\n",
    "    \n",
    "london_map"
   ]
  },
  {
   "cell_type": "markdown",
   "metadata": {},
   "source": [
    "## <span style=\"color:darkred\">3. Methodology <a name=\"methodology\"></a></span>"
   ]
  },
  {
   "cell_type": "markdown",
   "metadata": {},
   "source": [
    "In this project, we will be only concentrating the twoi boroughs with the largest poverty rate gaps. \n",
    "\n",
    "In the first step, we will be looking into the top 10 categories of venues for each of the borough, this will provides us with an overview of the types of venues popular in the boroughs. \n",
    "\n",
    "Second steps we will be looking at the top 5 venues and what are the locations spread betwen them to provides an indication of the posible area coverage of the venue for the local populations.\n",
    "\n",
    "in third and final steps, we will be drill into each of the categories to obtained the reviews of some of the venues to seek the quality of service at venues in this separate borough.\n",
    "\n",
    "With these analysis, we will be able to drawn some conclusions on how poverty rate in particular borough impacting the venues in the areas using Foursquare geospatial data."
   ]
  },
  {
   "cell_type": "markdown",
   "metadata": {},
   "source": [
    "======================================================================================================================== "
   ]
  },
  {
   "cell_type": "markdown",
   "metadata": {},
   "source": [
    "## <span style=\"color:darkred\">4. Analysis <a name=\"analysis\"></a></span>"
   ]
  },
  {
   "cell_type": "markdown",
   "metadata": {},
   "source": [
    "### Analyse Each Borough "
   ]
  },
  {
   "cell_type": "code",
   "execution_count": null,
   "metadata": {
    "scrolled": true
   },
   "outputs": [],
   "source": [
    "print(\"----Tower Hamlet----\")\n",
    "TH_nearby_venues['categories'].value_counts().head(10)"
   ]
  },
  {
   "cell_type": "code",
   "execution_count": null,
   "metadata": {
    "scrolled": true
   },
   "outputs": [],
   "source": [
    "print(\"----Bromley----\")\n",
    "BROM_nearby_venues['categories'].value_counts().head(10)"
   ]
  },
  {
   "cell_type": "markdown",
   "metadata": {},
   "source": [
    "From the above, we can noticed that based on the categories of venues available from Foursquare, both boroughs almost have similar top 10 venues. it is obvious that the top one venue is **Pub**, this is typical for London, as part of the British culture where most people tends to relax and have drinks with friends and family in the local pubs. \n",
    "\n",
    "One surprising observation, with the area coverage of just 19.77km2, Tower Hamlet has 6 **parks** available for the local residents, where as Bromley with the coverage of 152.2km2 only have 3 designated parks. \n",
    "\n",
    "As boroughy located at the outskirt of London, Bromley considered to be at the countryside of London. Thus, it is obevious that we can identify **Garden Center** as one of the popular venues available at the borough.\n"
   ]
  },
  {
   "cell_type": "code",
   "execution_count": null,
   "metadata": {},
   "outputs": [],
   "source": [
    "london_map = folium.Map(location = (51.476852, -0.000500), zoom_start = 11)\n",
    "\n",
    "# add Tower Hamlet markers to map\n",
    "for lat, lng, name, categories in zip(TH_nearby_venues['lat'], TH_nearby_venues['lng'], TH_nearby_venues['name'], TH_nearby_venues['categories']):\n",
    "    label = '{}'.format(name)\n",
    "    label = folium.Popup(label, parse_html=True)\n",
    "    if (categories == 'Pub'):\n",
    "        folium.CircleMarker([lat, lng],radius=5, popup=label,color='red',fill=True,fill_color='red',fill_opacity=0.7,parse_html=False).add_to(london_map) \n",
    "    elif (categories == 'Café'):\n",
    "        folium.CircleMarker([lat, lng],radius=5, popup=label,color='blue',fill=True,fill_color='blue',fill_opacity=0.7,parse_html=False).add_to(london_map)\n",
    "    elif (categories == 'Caffee Shop'):\n",
    "        folium.CircleMarker([lat, lng],radius=5, popup=label,color='green',fill=True,fill_color='green',fill_opacity=0.7,parse_html=False).add_to(london_map)\n",
    "    elif (categories == 'Park'):\n",
    "        folium.CircleMarker([lat, lng],radius=5, popup=label,color='yellow',fill=True,fill_color='yellow',fill_opacity=0.7,parse_html=False).add_to(london_map)\n",
    "    elif (categories == 'Turkish Restaurant'):\n",
    "        folium.CircleMarker([lat, lng],radius=5, popup=label,color='black',fill=True,fill_color='black',fill_opacity=0.7,parse_html=False).add_to(london_map)\n",
    "    \n",
    "# add Bromley markers to map\n",
    "for lat, lng, name, categories in zip(BROM_nearby_venues['lat'], BROM_nearby_venues['lng'], BROM_nearby_venues['name'], BROM_nearby_venues['categories']):\n",
    "    label = '{}'.format(name)\n",
    "    label = folium.Popup(label, parse_html=True)\n",
    "    if (categories == 'Pub'):\n",
    "        folium.CircleMarker([lat, lng],radius=5, popup=label,color='red',fill=True,fill_color='red',fill_opacity=0.7,parse_html=False).add_to(london_map) \n",
    "    elif (categories == 'Caffee Shop'):\n",
    "        folium.CircleMarker([lat, lng],radius=5, popup=label,color='blue',fill=True,fill_color='blue',fill_opacity=0.7,parse_html=False).add_to(london_map)\n",
    "    elif (categories == 'Pizza Place'):\n",
    "        folium.CircleMarker([lat, lng],radius=5, popup=label,color='green',fill=True,fill_color='green',fill_opacity=0.7,parse_html=False).add_to(london_map)\n",
    "    elif (categories == 'Supermarket'):\n",
    "        folium.CircleMarker([lat, lng],radius=5, popup=label,color='yellow',fill=True,fill_color='yellow',fill_opacity=0.7,parse_html=False).add_to(london_map)\n",
    "    elif (categories == 'Garden Center'):\n",
    "        folium.CircleMarker([lat, lng],radius=5, popup=label,color='black',fill=True,fill_color='black',fill_opacity=0.7,parse_html=False).add_to(london_map)\n",
    "    \n",
    "folium.Circle(\n",
    "    radius=2500,   # the radius is calculated based on the area coverage of the borough \n",
    "    location= TH_coordinates,\n",
    "    color= 'crimson',\n",
    "    fill=False,\n",
    ").add_to(london_map)\n",
    "\n",
    "folium.Circle(\n",
    "    radius=6900, # the radius is calculated based on the area coverage of the borough \n",
    "    location= BROM_coordinates, \n",
    "    popup = 'Bromley',\n",
    "    color='darkblue',\n",
    "    fill=False,\n",
    ").add_to(london_map)\n",
    "\n",
    "# display the London Map   \n",
    "london_map"
   ]
  },
  {
   "cell_type": "markdown",
   "metadata": {},
   "source": [
    "======================================================================================================================== "
   ]
  },
  {
   "cell_type": "markdown",
   "metadata": {},
   "source": [
    "## <span style=\"color:darkred\">5. Results and Discussion <a name=\"results\"></a></span>"
   ]
  },
  {
   "cell_type": "markdown",
   "metadata": {},
   "source": [
    "======================================================================================================================== "
   ]
  },
  {
   "cell_type": "markdown",
   "metadata": {},
   "source": [
    "## <span style=\"color:darkred\">6. Conclusions <a name=\"conclusion\"></a></span>"
   ]
  },
  {
   "cell_type": "markdown",
   "metadata": {},
   "source": [
    "======================================================================================================================== "
   ]
  },
  {
   "cell_type": "code",
   "execution_count": null,
   "metadata": {},
   "outputs": [],
   "source": []
  }
 ],
 "metadata": {
  "kernelspec": {
   "display_name": "Python 3",
   "language": "python",
   "name": "python3"
  },
  "language_info": {
   "codemirror_mode": {
    "name": "ipython",
    "version": 3
   },
   "file_extension": ".py",
   "mimetype": "text/x-python",
   "name": "python",
   "nbconvert_exporter": "python",
   "pygments_lexer": "ipython3",
   "version": "3.7.2"
  }
 },
 "nbformat": 4,
 "nbformat_minor": 2
}
