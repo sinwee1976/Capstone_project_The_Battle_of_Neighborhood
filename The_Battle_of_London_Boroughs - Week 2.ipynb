{
 "cells": [
  {
   "cell_type": "markdown",
   "metadata": {},
   "source": [
    "# Capstone Project - The Battle of the Neighborhoods (Week 2)\n",
    "### Applied Data Science Capstone by IBM/Coursera"
   ]
  },
  {
   "cell_type": "markdown",
   "metadata": {},
   "source": [
    "## <span style=\"color:darkred\">Table of contents</span>\n",
    "* [Introduction: Business Problem](#introduction)\n",
    "* [Data](#data)\n",
    "* [Methodology](#methodology)\n",
    "* [Analysis](#analysis)\n",
    "* [Results and Discussion](#results)\n",
    "* [Conclusion](#conclusion)"
   ]
  },
  {
   "cell_type": "markdown",
   "metadata": {},
   "source": [
    "## <span style=\"color:darkred\"> 1. Introduction: Business Problem <a name=\"introduction\"></a></span>"
   ]
  },
  {
   "cell_type": "markdown",
   "metadata": {},
   "source": [
    "In this project, we will investigate the influence of poverty rate to the facilities and amenities of certain borough and how this insights can provide targeting local and business development for London boroughs. It will be interesting to see how poverty impacts the facilities, venues and amenities available in the boroughs. \n",
    "\n",
    "<br><br>\n",
    "<center><img src=\"poverty_rate.jpg\"\n",
    "     alt=\"London Poverty Rates\"\n",
    "     width = \"700\"\n",
    "     style=\"float: centre; margin-left: 10px;\" /></center><br><br>\n",
    "\n",
    "\n",
    "This will be done by carrying out a comparative studies on the facilities and amenities between the two boroughs with the highest income rate and the lowest in London, **Tower Hamlet (TH)** borough and **Bromley (Brom)** borough of London, as shown in the figure above.  \n",
    "\n",
    "We will use the data science principles and techniques learned to generate a model of these boroughs, looking at the venues and facilities available in these areas and provides insights to stakeholders, the local authorities and business chambers of commerce.\n",
    "\n",
    "### Questions to answer:\n",
    "\n",
    "1.\tWhat types of facilities (venues) and amenities are available in the wards (neighbourhoods) with different poverty line?\n",
    "2.\tHow venues changing based on the spending power?\n",
    "3.\tWhat are the distinctive venues that represent in these boroughs?\n",
    "4.\tSuggestions and recommendations. \n",
    "\n",
    "By answering the above questions, the findings can be used for the targeting development for the rest of the London Boroughs so that unnecessary development can be avoided and overall budget can be sustained."
   ]
  },
  {
   "cell_type": "markdown",
   "metadata": {},
   "source": [
    "======================================================================================================================== "
   ]
  },
  {
   "cell_type": "markdown",
   "metadata": {},
   "source": [
    "## <span style=\"color:darkred\">2. Data <a name=\"data\"></a></span>"
   ]
  },
  {
   "cell_type": "markdown",
   "metadata": {},
   "source": [
    "Based on the problem definition, factors that will influence the decision in this project will be:\n",
    "\n",
    "* number and the type of venues and facilities available in the suurounding area of these boroughs\n",
    "* the most frequent venues and facilties for each boroughs\n",
    "\n",
    "To define the surrounding area of the borough, we will be using:\n",
    "* London Boroughs poverty information from: **https://www.trustforlondon.org.uk/data/poverty-borough**. *Accessed: 11/03/2019*\n",
    "* latitudes and longitudes of Tower Hamlet and Bromley  obtained from: **https://www.distancesto.com/coordinates/gb/**. *Accessed: 11/03/2019*  \n",
    "* venues, type and locations in every borough will be obtained using **Foursquare API**\n",
    "\n",
    "Further information of the boroughs can be found at:\n",
    "* Bromley: **https://en.wikipedia.org/wiki/London_Borough_of_Bromley** \n",
    "* Tower Hamlet: **https://en.wikipedia.org/wiki/London_Borough_of_Tower_Hamlets**"
   ]
  },
  {
   "cell_type": "markdown",
   "metadata": {},
   "source": [
    "## Boroughs Locations \n",
    "Based on the information obtained from https://www.distancesto.com/coordinates/gb/, the latitude and the longitude of TM and Brom are as follows:"
   ]
  },
  {
   "cell_type": "code",
   "execution_count": 2,
   "metadata": {},
   "outputs": [],
   "source": [
    "TH_coordinates = (51.520261, -0.02934)\n",
    "BROM_coordinates = (51.367971, 0.070062)\n",
    "london_coordinates = (51.509865, -0.118092)"
   ]
  },
  {
   "cell_type": "markdown",
   "metadata": {},
   "source": [
    "Let's visualise the locations of these boroughs on London map:"
   ]
  },
  {
   "cell_type": "code",
   "execution_count": 3,
   "metadata": {
    "scrolled": true
   },
   "outputs": [
    {
     "data": {
      "text/html": [
       "<div style=\"width:100%;\"><div style=\"position:relative;width:100%;height:0;padding-bottom:60%;\"><iframe src=\"data:text/html;charset=utf-8;base64,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\" style=\"position:absolute;width:100%;height:100%;left:0;top:0;border:none !important;\" allowfullscreen webkitallowfullscreen mozallowfullscreen></iframe></div></div>"
      ],
      "text/plain": [
       "<folium.folium.Map at 0x10de79470>"
      ]
     },
     "execution_count": 3,
     "metadata": {},
     "output_type": "execute_result"
    }
   ],
   "source": [
    "import folium\n",
    "from folium.features import DivIcon\n",
    "\n",
    "london_map = folium.Map(location = london_coordinates, zoom_start = 10)\n",
    "\n",
    "folium.Circle(\n",
    "    radius=2500,   # the radius is calculated based on the area coverage of the borough \n",
    "    location= TH_coordinates,\n",
    "    color= 'crimson',\n",
    "    fill=False,\n",
    ").add_to(london_map)\n",
    "\n",
    "folium.Marker(\n",
    "    TH_coordinates, \n",
    "    popup=('Tower Hamlet'), \n",
    "    icon=folium.Icon(color='crimson', \n",
    "    icon_color='white', icon='info-sign', angle=0, prefix='fa')\n",
    ").add_to(london_map)\n",
    "\n",
    "folium.Circle(\n",
    "    radius=6900, # the radius is calculated based on the area coverage of the borough \n",
    "    location= BROM_coordinates, \n",
    "    popup = 'Bromley',\n",
    "    color='darkblue',\n",
    "    fill=False,\n",
    ").add_to(london_map)\n",
    "\n",
    "folium.Marker(\n",
    "    BROM_coordinates, \n",
    "    popup=('Bromley'), \n",
    "    icon=folium.Icon(color='darkblue', \n",
    "    icon_color='white', icon='info-sign', angle=0, prefix='fa')\n",
    ").add_to(london_map)\n",
    "\n",
    "\n",
    "\n",
    "london_map"
   ]
  },
  {
   "cell_type": "markdown",
   "metadata": {},
   "source": [
    "Preliminary observations from the above map show that based on the locations for the two boroughs, Tower Hamlet is located very near to the London centre, where as Bromley borough located at the boundary of the M25 Ringroad, which is about 2 hours drive from London centre. In terms of area size, Tower Hamlet convers about 19.77km2 and Bromley is about 150.2km2. Based on these information, we can used them as distance references when retrieving venues, type and locations  using Foursquare API."
   ]
  },
  {
   "cell_type": "markdown",
   "metadata": {},
   "source": [
    "Now that we have the information about the boroughs, let's load the wards (neighbourhood) information of each boroughs."
   ]
  },
  {
   "cell_type": "code",
   "execution_count": 4,
   "metadata": {},
   "outputs": [
    {
     "data": {
      "text/html": [
       "<div>\n",
       "<style scoped>\n",
       "    .dataframe tbody tr th:only-of-type {\n",
       "        vertical-align: middle;\n",
       "    }\n",
       "\n",
       "    .dataframe tbody tr th {\n",
       "        vertical-align: top;\n",
       "    }\n",
       "\n",
       "    .dataframe thead th {\n",
       "        text-align: right;\n",
       "    }\n",
       "</style>\n",
       "<table border=\"1\" class=\"dataframe\">\n",
       "  <thead>\n",
       "    <tr style=\"text-align: right;\">\n",
       "      <th></th>\n",
       "      <th>neighbourhood</th>\n",
       "      <th>latitude</th>\n",
       "      <th>longitude</th>\n",
       "    </tr>\n",
       "  </thead>\n",
       "  <tbody>\n",
       "    <tr>\n",
       "      <th>0</th>\n",
       "      <td>Bethnal Green</td>\n",
       "      <td>51.526962</td>\n",
       "      <td>-0.066740</td>\n",
       "    </tr>\n",
       "    <tr>\n",
       "      <th>1</th>\n",
       "      <td>Blackwall and Cubitt Town</td>\n",
       "      <td>51.495182</td>\n",
       "      <td>-0.009826</td>\n",
       "    </tr>\n",
       "    <tr>\n",
       "      <th>2</th>\n",
       "      <td>Bow East</td>\n",
       "      <td>51.528309</td>\n",
       "      <td>-0.019482</td>\n",
       "    </tr>\n",
       "    <tr>\n",
       "      <th>3</th>\n",
       "      <td>Bow West</td>\n",
       "      <td>51.528309</td>\n",
       "      <td>-0.019482</td>\n",
       "    </tr>\n",
       "    <tr>\n",
       "      <th>4</th>\n",
       "      <td>Canary Wharf</td>\n",
       "      <td>51.505219</td>\n",
       "      <td>-0.018900</td>\n",
       "    </tr>\n",
       "  </tbody>\n",
       "</table>\n",
       "</div>"
      ],
      "text/plain": [
       "               neighbourhood   latitude  longitude\n",
       "0              Bethnal Green  51.526962  -0.066740\n",
       "1  Blackwall and Cubitt Town  51.495182  -0.009826\n",
       "2                   Bow East  51.528309  -0.019482\n",
       "3                   Bow West  51.528309  -0.019482\n",
       "4               Canary Wharf  51.505219  -0.018900"
      ]
     },
     "execution_count": 4,
     "metadata": {},
     "output_type": "execute_result"
    }
   ],
   "source": [
    "import pandas as pd\n",
    "\n",
    "TH_data = pd.read_csv('TH_neighbourhoods.csv')\n",
    "TH_data.head()"
   ]
  },
  {
   "cell_type": "code",
   "execution_count": 5,
   "metadata": {},
   "outputs": [
    {
     "name": "stdout",
     "output_type": "stream",
     "text": [
      "Borough of Tower Hamlet has 15 neighbourhoods.\n"
     ]
    }
   ],
   "source": [
    "print('Borough of Tower Hamlet has {} neighbourhoods.'.format(\n",
    "        len(TH_data['neighbourhood'].unique()),\n",
    "        TH_data.shape[0]\n",
    "    )\n",
    ")"
   ]
  },
  {
   "cell_type": "code",
   "execution_count": 6,
   "metadata": {
    "scrolled": true
   },
   "outputs": [
    {
     "data": {
      "text/html": [
       "<div>\n",
       "<style scoped>\n",
       "    .dataframe tbody tr th:only-of-type {\n",
       "        vertical-align: middle;\n",
       "    }\n",
       "\n",
       "    .dataframe tbody tr th {\n",
       "        vertical-align: top;\n",
       "    }\n",
       "\n",
       "    .dataframe thead th {\n",
       "        text-align: right;\n",
       "    }\n",
       "</style>\n",
       "<table border=\"1\" class=\"dataframe\">\n",
       "  <thead>\n",
       "    <tr style=\"text-align: right;\">\n",
       "      <th></th>\n",
       "      <th>neighbourhood</th>\n",
       "      <th>latitude</th>\n",
       "      <th>longitude</th>\n",
       "    </tr>\n",
       "  </thead>\n",
       "  <tbody>\n",
       "    <tr>\n",
       "      <th>0</th>\n",
       "      <td>Bickley</td>\n",
       "      <td>51.401740</td>\n",
       "      <td>0.043712</td>\n",
       "    </tr>\n",
       "    <tr>\n",
       "      <th>1</th>\n",
       "      <td>Biggin Hill</td>\n",
       "      <td>51.331959</td>\n",
       "      <td>0.029057</td>\n",
       "    </tr>\n",
       "    <tr>\n",
       "      <th>2</th>\n",
       "      <td>Bromley Common &amp; Keston</td>\n",
       "      <td>51.375875</td>\n",
       "      <td>0.043819</td>\n",
       "    </tr>\n",
       "    <tr>\n",
       "      <th>3</th>\n",
       "      <td>Bromley Town</td>\n",
       "      <td>51.402805</td>\n",
       "      <td>0.014814</td>\n",
       "    </tr>\n",
       "    <tr>\n",
       "      <th>4</th>\n",
       "      <td>Chelsfield &amp; Pratts Bottom</td>\n",
       "      <td>51.357943</td>\n",
       "      <td>0.127288</td>\n",
       "    </tr>\n",
       "  </tbody>\n",
       "</table>\n",
       "</div>"
      ],
      "text/plain": [
       "                neighbourhood   latitude  longitude\n",
       "0                     Bickley  51.401740   0.043712\n",
       "1                 Biggin Hill  51.331959   0.029057\n",
       "2     Bromley Common & Keston  51.375875   0.043819\n",
       "3                Bromley Town  51.402805   0.014814\n",
       "4  Chelsfield & Pratts Bottom  51.357943   0.127288"
      ]
     },
     "execution_count": 6,
     "metadata": {},
     "output_type": "execute_result"
    }
   ],
   "source": [
    "BROM_data = pd.read_csv('BROM_neighbourhoods.csv')\n",
    "BROM_data.head()"
   ]
  },
  {
   "cell_type": "code",
   "execution_count": 7,
   "metadata": {},
   "outputs": [
    {
     "name": "stdout",
     "output_type": "stream",
     "text": [
      "Borough of Bromley has 20 neighborhoods.\n"
     ]
    }
   ],
   "source": [
    "print('Borough of Bromley has {} neighborhoods.'.format(\n",
    "        len(BROM_data['neighbourhood'].unique()),\n",
    "        BROM_data.shape[0]\n",
    "    )\n",
    ")"
   ]
  },
  {
   "cell_type": "markdown",
   "metadata": {},
   "source": [
    "Now, let's confirm the locations of all the wards within the borough on the map based on the area coverage we have define earlier. b"
   ]
  },
  {
   "cell_type": "code",
   "execution_count": 8,
   "metadata": {},
   "outputs": [
    {
     "data": {
      "text/html": [
       "<div style=\"width:100%;\"><div style=\"position:relative;width:100%;height:0;padding-bottom:60%;\"><iframe src=\"data:text/html;charset=utf-8;base64,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\" style=\"position:absolute;width:100%;height:100%;left:0;top:0;border:none !important;\" allowfullscreen webkitallowfullscreen mozallowfullscreen></iframe></div></div>"
      ],
      "text/plain": [
       "<folium.folium.Map at 0x11e5b18d0>"
      ]
     },
     "execution_count": 8,
     "metadata": {},
     "output_type": "execute_result"
    }
   ],
   "source": [
    "london_map = folium.Map(location = london_coordinates, zoom_start = 10)\n",
    "\n",
    "folium.Circle(\n",
    "    radius=2500,   # the radius is calculated based on the area coverage of the borough \n",
    "    location= TH_coordinates,\n",
    "    color= 'crimson',\n",
    "    fill=False,\n",
    ").add_to(london_map)\n",
    "\n",
    "# add markers to map\n",
    "for lat, lng, label in zip(TH_data['latitude'], TH_data['longitude'], TH_data['neighbourhood']):\n",
    "    label = folium.Popup(label, parse_html=True)\n",
    "    folium.CircleMarker(\n",
    "        [lat, lng],\n",
    "        radius=5,\n",
    "        popup=label,\n",
    "        color='blue',\n",
    "        fill=True,\n",
    "        fill_color='#3186cc',\n",
    "        fill_opacity=0.7,\n",
    "        parse_html=False).add_to(london_map) \n",
    "\n",
    "folium.Circle(\n",
    "    radius=6900, # the radius is calculated based on the area coverage of the borough \n",
    "    location= BROM_coordinates, \n",
    "    popup = 'Bromley',\n",
    "    color='darkblue',\n",
    "    fill=False,\n",
    ").add_to(london_map)\n",
    "\n",
    "# add markers to map\n",
    "for lat, lng, label in zip(BROM_data['latitude'], BROM_data['longitude'], BROM_data['neighbourhood']):\n",
    "    label = folium.Popup(label, parse_html=True)\n",
    "    folium.CircleMarker(\n",
    "        [lat, lng],\n",
    "        radius=5,\n",
    "        popup=label,\n",
    "        color='blue',\n",
    "        fill=True,\n",
    "        fill_color='#3186cc',\n",
    "        fill_opacity=0.7,\n",
    "        parse_html=False).add_to(london_map) \n",
    "\n",
    "\n",
    "london_map"
   ]
  },
  {
   "cell_type": "markdown",
   "metadata": {},
   "source": [
    "## Foursquare API\n",
    "\n",
    "Now that we have our location candidates, let's use Foursquare API to get info on venues in each of the wards within each borough\n",
    "\n",
    "As an exploratory project, we will retrieve the venues based on the areas of each borough. We will then do the neccesary manipulations and analysis to achieve our objectives.  "
   ]
  },
  {
   "cell_type": "markdown",
   "metadata": {},
   "source": [
    "### Define Foursquare Credential and Version "
   ]
  },
  {
   "cell_type": "code",
   "execution_count": 9,
   "metadata": {},
   "outputs": [
    {
     "name": "stdout",
     "output_type": "stream",
     "text": [
      "Your credentails:\n",
      "CLIENT_ID: VB4GSHAOKEPLPPVS0VBVRAXL3DXVHHTRU3BJ4X4NJSGSF3R4\n",
      "CLIENT_SECRET:0N21QNS5SLASFGZFAGYFVAGKCE15NM40N2ZOXLAHS50KHICP\n"
     ]
    }
   ],
   "source": [
    "CLIENT_ID = 'VB4GSHAOKEPLPPVS0VBVRAXL3DXVHHTRU3BJ4X4NJSGSF3R4' # your Foursquare ID\n",
    "CLIENT_SECRET = '0N21QNS5SLASFGZFAGYFVAGKCE15NM40N2ZOXLAHS50KHICP' # your Foursquare Secret\n",
    "VERSION = '20180605' # Foursquare API version\n",
    "\n",
    "print('Your credentails:')\n",
    "print('CLIENT_ID: ' + CLIENT_ID)\n",
    "print('CLIENT_SECRET:' + CLIENT_SECRET)"
   ]
  },
  {
   "cell_type": "code",
   "execution_count": 10,
   "metadata": {},
   "outputs": [],
   "source": [
    "# importing the neccesary libraries for the tasks \n",
    "\n",
    "from pandas.io.json import json_normalize # tranform JSON file into a pandas dataframe\n",
    "import pandas as pd\n",
    "import json # library to handle JSON files\n",
    "import requests # library to handle requests\n",
    "\n",
    "# Matplotlib and associated plotting modules\n",
    "import matplotlib.cm as cm\n",
    "import matplotlib.colors as colors\n",
    "import matplotlib.pyplot as plt\n",
    "%matplotlib inline "
   ]
  },
  {
   "cell_type": "code",
   "execution_count": 17,
   "metadata": {},
   "outputs": [],
   "source": [
    "# fundtion to repeat the same process of retrieving venues of all the neighbourhoods \n",
    "\n",
    "def getNearbyVenues(names, latitudes, longitudes, radius=500, LIMIT = 100):\n",
    "    \n",
    "    venues_list=[]\n",
    "    for name, lat, lng in zip(names, latitudes, longitudes):\n",
    "        print(name)\n",
    "            \n",
    "        # create the API request URL\n",
    "        url = 'https://api.foursquare.com/v2/venues/explore?&client_id={}&client_secret={}&v={}&ll={},{}&radius={}&limit={}'.format(\n",
    "            CLIENT_ID, \n",
    "            CLIENT_SECRET, \n",
    "            VERSION, \n",
    "            lat, \n",
    "            lng, \n",
    "            radius, \n",
    "            LIMIT)\n",
    "            \n",
    "        # make the GET request\n",
    "        results = requests.get(url).json()[\"response\"]['groups'][0]['items']\n",
    "        \n",
    "        # return only relevant information for each nearby venue\n",
    "        venues_list.append([(\n",
    "            name, \n",
    "            lat, \n",
    "            lng, \n",
    "            v['venue']['name'], \n",
    "            v['venue']['location']['lat'], \n",
    "            v['venue']['location']['lng'],  \n",
    "            v['venue']['categories'][0]['name']) for v in results])\n",
    "\n",
    "    nearby_venues = pd.DataFrame([item for venue_list in venues_list for item in venue_list])\n",
    "    nearby_venues.columns = ['Neighborhood', \n",
    "                  'Neighborhood Latitude', \n",
    "                  'Neighborhood Longitude', \n",
    "                  'Venue', \n",
    "                  'Venue Latitude', \n",
    "                  'Venue Longitude', \n",
    "                  'Venue Category']\n",
    "    \n",
    "    return(nearby_venues)"
   ]
  },
  {
   "cell_type": "markdown",
   "metadata": {},
   "source": [
    "### Tower Hamlet: Let's get the venues in Tower Hamlet within a radius of 500 meters of each neighbourhoods"
   ]
  },
  {
   "cell_type": "code",
   "execution_count": 18,
   "metadata": {
    "scrolled": true
   },
   "outputs": [
    {
     "name": "stdout",
     "output_type": "stream",
     "text": [
      "Bethnal Green\n",
      "Blackwall and Cubitt Town\n",
      "Bow East\n",
      "Bow West\n",
      "Canary Wharf\n",
      "Island Gardens \n",
      "Lansbury\n",
      "Limehouse \n",
      "Poplar\n",
      "Shadwell\n",
      "Spitalfields and Banglatown\n",
      "St Katharine's and Wapping \n",
      "Stepney Green\n",
      "Weavers\n",
      "Whitechapel\n"
     ]
    }
   ],
   "source": [
    "TH_venues = getNearbyVenues(names=TH_data['neighbourhood'],\n",
    "                                   latitudes = TH_data['latitude'],\n",
    "                                   longitudes = TH_data['longitude']\n",
    "                                  )\n",
    "\n"
   ]
  },
  {
   "cell_type": "code",
   "execution_count": 19,
   "metadata": {},
   "outputs": [
    {
     "name": "stdout",
     "output_type": "stream",
     "text": [
      "(520, 7)\n"
     ]
    },
    {
     "data": {
      "text/html": [
       "<div>\n",
       "<style scoped>\n",
       "    .dataframe tbody tr th:only-of-type {\n",
       "        vertical-align: middle;\n",
       "    }\n",
       "\n",
       "    .dataframe tbody tr th {\n",
       "        vertical-align: top;\n",
       "    }\n",
       "\n",
       "    .dataframe thead th {\n",
       "        text-align: right;\n",
       "    }\n",
       "</style>\n",
       "<table border=\"1\" class=\"dataframe\">\n",
       "  <thead>\n",
       "    <tr style=\"text-align: right;\">\n",
       "      <th></th>\n",
       "      <th>Neighborhood</th>\n",
       "      <th>Neighborhood Latitude</th>\n",
       "      <th>Neighborhood Longitude</th>\n",
       "      <th>Venue</th>\n",
       "      <th>Venue Latitude</th>\n",
       "      <th>Venue Longitude</th>\n",
       "      <th>Venue Category</th>\n",
       "    </tr>\n",
       "  </thead>\n",
       "  <tbody>\n",
       "    <tr>\n",
       "      <th>0</th>\n",
       "      <td>Bethnal Green</td>\n",
       "      <td>51.526962</td>\n",
       "      <td>-0.06674</td>\n",
       "      <td>The King's Arms</td>\n",
       "      <td>51.525754</td>\n",
       "      <td>-0.065868</td>\n",
       "      <td>Pub</td>\n",
       "    </tr>\n",
       "    <tr>\n",
       "      <th>1</th>\n",
       "      <td>Bethnal Green</td>\n",
       "      <td>51.526962</td>\n",
       "      <td>-0.06674</td>\n",
       "      <td>Sam's Cafe</td>\n",
       "      <td>51.526424</td>\n",
       "      <td>-0.065056</td>\n",
       "      <td>Café</td>\n",
       "    </tr>\n",
       "    <tr>\n",
       "      <th>2</th>\n",
       "      <td>Bethnal Green</td>\n",
       "      <td>51.526962</td>\n",
       "      <td>-0.06674</td>\n",
       "      <td>Woolidando</td>\n",
       "      <td>51.526377</td>\n",
       "      <td>-0.066518</td>\n",
       "      <td>Café</td>\n",
       "    </tr>\n",
       "    <tr>\n",
       "      <th>3</th>\n",
       "      <td>Bethnal Green</td>\n",
       "      <td>51.526962</td>\n",
       "      <td>-0.06674</td>\n",
       "      <td>Jonestown</td>\n",
       "      <td>51.526092</td>\n",
       "      <td>-0.067936</td>\n",
       "      <td>Coffee Shop</td>\n",
       "    </tr>\n",
       "    <tr>\n",
       "      <th>4</th>\n",
       "      <td>Bethnal Green</td>\n",
       "      <td>51.526962</td>\n",
       "      <td>-0.06674</td>\n",
       "      <td>E Pellicci</td>\n",
       "      <td>51.526516</td>\n",
       "      <td>-0.063426</td>\n",
       "      <td>Café</td>\n",
       "    </tr>\n",
       "  </tbody>\n",
       "</table>\n",
       "</div>"
      ],
      "text/plain": [
       "    Neighborhood  Neighborhood Latitude  Neighborhood Longitude  \\\n",
       "0  Bethnal Green              51.526962                -0.06674   \n",
       "1  Bethnal Green              51.526962                -0.06674   \n",
       "2  Bethnal Green              51.526962                -0.06674   \n",
       "3  Bethnal Green              51.526962                -0.06674   \n",
       "4  Bethnal Green              51.526962                -0.06674   \n",
       "\n",
       "             Venue  Venue Latitude  Venue Longitude Venue Category  \n",
       "0  The King's Arms       51.525754        -0.065868            Pub  \n",
       "1       Sam's Cafe       51.526424        -0.065056           Café  \n",
       "2       Woolidando       51.526377        -0.066518           Café  \n",
       "3        Jonestown       51.526092        -0.067936    Coffee Shop  \n",
       "4       E Pellicci       51.526516        -0.063426           Café  "
      ]
     },
     "execution_count": 19,
     "metadata": {},
     "output_type": "execute_result"
    }
   ],
   "source": [
    "print(TH_venues.shape)\n",
    "\n",
    "TH_venues.to_csv('TH_venues', index = False)\n",
    "TH_venues.head()"
   ]
  },
  {
   "cell_type": "code",
   "execution_count": 20,
   "metadata": {},
   "outputs": [
    {
     "data": {
      "text/html": [
       "<div>\n",
       "<style scoped>\n",
       "    .dataframe tbody tr th:only-of-type {\n",
       "        vertical-align: middle;\n",
       "    }\n",
       "\n",
       "    .dataframe tbody tr th {\n",
       "        vertical-align: top;\n",
       "    }\n",
       "\n",
       "    .dataframe thead th {\n",
       "        text-align: right;\n",
       "    }\n",
       "</style>\n",
       "<table border=\"1\" class=\"dataframe\">\n",
       "  <thead>\n",
       "    <tr style=\"text-align: right;\">\n",
       "      <th></th>\n",
       "      <th>Neighborhood Latitude</th>\n",
       "      <th>Neighborhood Longitude</th>\n",
       "      <th>Venue</th>\n",
       "      <th>Venue Latitude</th>\n",
       "      <th>Venue Longitude</th>\n",
       "      <th>Venue Category</th>\n",
       "    </tr>\n",
       "    <tr>\n",
       "      <th>Neighborhood</th>\n",
       "      <th></th>\n",
       "      <th></th>\n",
       "      <th></th>\n",
       "      <th></th>\n",
       "      <th></th>\n",
       "      <th></th>\n",
       "    </tr>\n",
       "  </thead>\n",
       "  <tbody>\n",
       "    <tr>\n",
       "      <th>Bethnal Green</th>\n",
       "      <td>63</td>\n",
       "      <td>63</td>\n",
       "      <td>63</td>\n",
       "      <td>63</td>\n",
       "      <td>63</td>\n",
       "      <td>63</td>\n",
       "    </tr>\n",
       "    <tr>\n",
       "      <th>Blackwall and Cubitt Town</th>\n",
       "      <td>32</td>\n",
       "      <td>32</td>\n",
       "      <td>32</td>\n",
       "      <td>32</td>\n",
       "      <td>32</td>\n",
       "      <td>32</td>\n",
       "    </tr>\n",
       "    <tr>\n",
       "      <th>Bow East</th>\n",
       "      <td>13</td>\n",
       "      <td>13</td>\n",
       "      <td>13</td>\n",
       "      <td>13</td>\n",
       "      <td>13</td>\n",
       "      <td>13</td>\n",
       "    </tr>\n",
       "    <tr>\n",
       "      <th>Bow West</th>\n",
       "      <td>13</td>\n",
       "      <td>13</td>\n",
       "      <td>13</td>\n",
       "      <td>13</td>\n",
       "      <td>13</td>\n",
       "      <td>13</td>\n",
       "    </tr>\n",
       "    <tr>\n",
       "      <th>Canary Wharf</th>\n",
       "      <td>100</td>\n",
       "      <td>100</td>\n",
       "      <td>100</td>\n",
       "      <td>100</td>\n",
       "      <td>100</td>\n",
       "      <td>100</td>\n",
       "    </tr>\n",
       "    <tr>\n",
       "      <th>Island Gardens</th>\n",
       "      <td>30</td>\n",
       "      <td>30</td>\n",
       "      <td>30</td>\n",
       "      <td>30</td>\n",
       "      <td>30</td>\n",
       "      <td>30</td>\n",
       "    </tr>\n",
       "    <tr>\n",
       "      <th>Lansbury</th>\n",
       "      <td>16</td>\n",
       "      <td>16</td>\n",
       "      <td>16</td>\n",
       "      <td>16</td>\n",
       "      <td>16</td>\n",
       "      <td>16</td>\n",
       "    </tr>\n",
       "    <tr>\n",
       "      <th>Limehouse</th>\n",
       "      <td>28</td>\n",
       "      <td>28</td>\n",
       "      <td>28</td>\n",
       "      <td>28</td>\n",
       "      <td>28</td>\n",
       "      <td>28</td>\n",
       "    </tr>\n",
       "    <tr>\n",
       "      <th>Poplar</th>\n",
       "      <td>13</td>\n",
       "      <td>13</td>\n",
       "      <td>13</td>\n",
       "      <td>13</td>\n",
       "      <td>13</td>\n",
       "      <td>13</td>\n",
       "    </tr>\n",
       "    <tr>\n",
       "      <th>Shadwell</th>\n",
       "      <td>22</td>\n",
       "      <td>22</td>\n",
       "      <td>22</td>\n",
       "      <td>22</td>\n",
       "      <td>22</td>\n",
       "      <td>22</td>\n",
       "    </tr>\n",
       "    <tr>\n",
       "      <th>Spitalfields and Banglatown</th>\n",
       "      <td>100</td>\n",
       "      <td>100</td>\n",
       "      <td>100</td>\n",
       "      <td>100</td>\n",
       "      <td>100</td>\n",
       "      <td>100</td>\n",
       "    </tr>\n",
       "    <tr>\n",
       "      <th>St Katharine's and Wapping</th>\n",
       "      <td>15</td>\n",
       "      <td>15</td>\n",
       "      <td>15</td>\n",
       "      <td>15</td>\n",
       "      <td>15</td>\n",
       "      <td>15</td>\n",
       "    </tr>\n",
       "    <tr>\n",
       "      <th>Stepney Green</th>\n",
       "      <td>20</td>\n",
       "      <td>20</td>\n",
       "      <td>20</td>\n",
       "      <td>20</td>\n",
       "      <td>20</td>\n",
       "      <td>20</td>\n",
       "    </tr>\n",
       "    <tr>\n",
       "      <th>Weavers</th>\n",
       "      <td>21</td>\n",
       "      <td>21</td>\n",
       "      <td>21</td>\n",
       "      <td>21</td>\n",
       "      <td>21</td>\n",
       "      <td>21</td>\n",
       "    </tr>\n",
       "    <tr>\n",
       "      <th>Whitechapel</th>\n",
       "      <td>34</td>\n",
       "      <td>34</td>\n",
       "      <td>34</td>\n",
       "      <td>34</td>\n",
       "      <td>34</td>\n",
       "      <td>34</td>\n",
       "    </tr>\n",
       "  </tbody>\n",
       "</table>\n",
       "</div>"
      ],
      "text/plain": [
       "                             Neighborhood Latitude  Neighborhood Longitude  \\\n",
       "Neighborhood                                                                 \n",
       "Bethnal Green                                   63                      63   \n",
       "Blackwall and Cubitt Town                       32                      32   \n",
       "Bow East                                        13                      13   \n",
       "Bow West                                        13                      13   \n",
       "Canary Wharf                                   100                     100   \n",
       "Island Gardens                                  30                      30   \n",
       "Lansbury                                        16                      16   \n",
       "Limehouse                                       28                      28   \n",
       "Poplar                                          13                      13   \n",
       "Shadwell                                        22                      22   \n",
       "Spitalfields and Banglatown                    100                     100   \n",
       "St Katharine's and Wapping                      15                      15   \n",
       "Stepney Green                                   20                      20   \n",
       "Weavers                                         21                      21   \n",
       "Whitechapel                                     34                      34   \n",
       "\n",
       "                             Venue  Venue Latitude  Venue Longitude  \\\n",
       "Neighborhood                                                          \n",
       "Bethnal Green                   63              63               63   \n",
       "Blackwall and Cubitt Town       32              32               32   \n",
       "Bow East                        13              13               13   \n",
       "Bow West                        13              13               13   \n",
       "Canary Wharf                   100             100              100   \n",
       "Island Gardens                  30              30               30   \n",
       "Lansbury                        16              16               16   \n",
       "Limehouse                       28              28               28   \n",
       "Poplar                          13              13               13   \n",
       "Shadwell                        22              22               22   \n",
       "Spitalfields and Banglatown    100             100              100   \n",
       "St Katharine's and Wapping      15              15               15   \n",
       "Stepney Green                   20              20               20   \n",
       "Weavers                         21              21               21   \n",
       "Whitechapel                     34              34               34   \n",
       "\n",
       "                             Venue Category  \n",
       "Neighborhood                                 \n",
       "Bethnal Green                            63  \n",
       "Blackwall and Cubitt Town                32  \n",
       "Bow East                                 13  \n",
       "Bow West                                 13  \n",
       "Canary Wharf                            100  \n",
       "Island Gardens                           30  \n",
       "Lansbury                                 16  \n",
       "Limehouse                                28  \n",
       "Poplar                                   13  \n",
       "Shadwell                                 22  \n",
       "Spitalfields and Banglatown             100  \n",
       "St Katharine's and Wapping               15  \n",
       "Stepney Green                            20  \n",
       "Weavers                                  21  \n",
       "Whitechapel                              34  "
      ]
     },
     "execution_count": 20,
     "metadata": {},
     "output_type": "execute_result"
    }
   ],
   "source": [
    "TH_venues.groupby('Neighborhood').count()"
   ]
  },
  {
   "cell_type": "markdown",
   "metadata": {},
   "source": [
    "#### Let's find out how many unique categories can we obtained from Tower Hamlet"
   ]
  },
  {
   "cell_type": "code",
   "execution_count": 21,
   "metadata": {
    "scrolled": true
   },
   "outputs": [
    {
     "name": "stdout",
     "output_type": "stream",
     "text": [
      "There are 156 uniques venue categories at Tower Hamlet.\n"
     ]
    }
   ],
   "source": [
    "print('There are {} uniques venue categories at Tower Hamlet.'.format(len(TH_venues['Venue Category'].unique())))"
   ]
  },
  {
   "cell_type": "markdown",
   "metadata": {},
   "source": [
    "### Bromley: Let's get the venues in Bromley within a radius of 500 meters of each neighbourhoods"
   ]
  },
  {
   "cell_type": "code",
   "execution_count": 22,
   "metadata": {},
   "outputs": [
    {
     "name": "stdout",
     "output_type": "stream",
     "text": [
      "Bickley\n",
      "Biggin Hill\n",
      "Bromley Common & Keston\n",
      "Bromley Town\n",
      "Chelsfield & Pratts Bottom\n",
      "Chislehurst\n",
      "Copers Cope\n",
      "Cray Valley East\n",
      "Crystal Palace\n",
      "Darwin\n",
      "Farnborough & Croftton\n",
      "Hayes & Coney Hall\n",
      "Kelsey & Eden Park\n",
      "Mottingham & Chislehurst North\n",
      "Orpington\n",
      "Penge & Cator\n",
      "Petts Wood & Knoll\n",
      "Plaistow & Sunbridge \n",
      "Shortlangs \n",
      "West Wickham \n"
     ]
    }
   ],
   "source": [
    "BROM_venues = getNearbyVenues(names=BROM_data['neighbourhood'],\n",
    "                                   latitudes = BROM_data['latitude'],\n",
    "                                   longitudes = BROM_data['longitude']\n",
    "                                  )\n",
    "\n"
   ]
  },
  {
   "cell_type": "code",
   "execution_count": 23,
   "metadata": {},
   "outputs": [
    {
     "name": "stdout",
     "output_type": "stream",
     "text": [
      "(193, 7)\n"
     ]
    },
    {
     "data": {
      "text/html": [
       "<div>\n",
       "<style scoped>\n",
       "    .dataframe tbody tr th:only-of-type {\n",
       "        vertical-align: middle;\n",
       "    }\n",
       "\n",
       "    .dataframe tbody tr th {\n",
       "        vertical-align: top;\n",
       "    }\n",
       "\n",
       "    .dataframe thead th {\n",
       "        text-align: right;\n",
       "    }\n",
       "</style>\n",
       "<table border=\"1\" class=\"dataframe\">\n",
       "  <thead>\n",
       "    <tr style=\"text-align: right;\">\n",
       "      <th></th>\n",
       "      <th>Neighborhood</th>\n",
       "      <th>Neighborhood Latitude</th>\n",
       "      <th>Neighborhood Longitude</th>\n",
       "      <th>Venue</th>\n",
       "      <th>Venue Latitude</th>\n",
       "      <th>Venue Longitude</th>\n",
       "      <th>Venue Category</th>\n",
       "    </tr>\n",
       "  </thead>\n",
       "  <tbody>\n",
       "    <tr>\n",
       "      <th>0</th>\n",
       "      <td>Bickley</td>\n",
       "      <td>51.401740</td>\n",
       "      <td>0.043712</td>\n",
       "      <td>Bickley Railway Station (BKL)</td>\n",
       "      <td>51.400032</td>\n",
       "      <td>0.045351</td>\n",
       "      <td>Train Station</td>\n",
       "    </tr>\n",
       "    <tr>\n",
       "      <th>1</th>\n",
       "      <td>Bickley</td>\n",
       "      <td>51.401740</td>\n",
       "      <td>0.043712</td>\n",
       "      <td>Bickley Park Cricket Club</td>\n",
       "      <td>51.401508</td>\n",
       "      <td>0.046263</td>\n",
       "      <td>Cricket Ground</td>\n",
       "    </tr>\n",
       "    <tr>\n",
       "      <th>2</th>\n",
       "      <td>Bickley</td>\n",
       "      <td>51.401740</td>\n",
       "      <td>0.043712</td>\n",
       "      <td>J Henry Flooring</td>\n",
       "      <td>51.401227</td>\n",
       "      <td>0.040652</td>\n",
       "      <td>Home Service</td>\n",
       "    </tr>\n",
       "    <tr>\n",
       "      <th>3</th>\n",
       "      <td>Bickley</td>\n",
       "      <td>51.401740</td>\n",
       "      <td>0.043712</td>\n",
       "      <td>Village Sandwich Bar</td>\n",
       "      <td>51.399301</td>\n",
       "      <td>0.047951</td>\n",
       "      <td>Café</td>\n",
       "    </tr>\n",
       "    <tr>\n",
       "      <th>4</th>\n",
       "      <td>Biggin Hill</td>\n",
       "      <td>51.331959</td>\n",
       "      <td>0.029057</td>\n",
       "      <td>Biggin Hill Airport (BQH) (Biggin Hill Airport)</td>\n",
       "      <td>51.331794</td>\n",
       "      <td>0.028845</td>\n",
       "      <td>Airport</td>\n",
       "    </tr>\n",
       "  </tbody>\n",
       "</table>\n",
       "</div>"
      ],
      "text/plain": [
       "  Neighborhood  Neighborhood Latitude  Neighborhood Longitude  \\\n",
       "0      Bickley              51.401740                0.043712   \n",
       "1      Bickley              51.401740                0.043712   \n",
       "2      Bickley              51.401740                0.043712   \n",
       "3      Bickley              51.401740                0.043712   \n",
       "4  Biggin Hill              51.331959                0.029057   \n",
       "\n",
       "                                             Venue  Venue Latitude  \\\n",
       "0                    Bickley Railway Station (BKL)       51.400032   \n",
       "1                        Bickley Park Cricket Club       51.401508   \n",
       "2                                 J Henry Flooring       51.401227   \n",
       "3                             Village Sandwich Bar       51.399301   \n",
       "4  Biggin Hill Airport (BQH) (Biggin Hill Airport)       51.331794   \n",
       "\n",
       "   Venue Longitude  Venue Category  \n",
       "0         0.045351   Train Station  \n",
       "1         0.046263  Cricket Ground  \n",
       "2         0.040652    Home Service  \n",
       "3         0.047951            Café  \n",
       "4         0.028845         Airport  "
      ]
     },
     "execution_count": 23,
     "metadata": {},
     "output_type": "execute_result"
    }
   ],
   "source": [
    "print(BROM_venues.shape)\n",
    "\n",
    "BROM_venues.to_csv('BROM_venues', index = False)\n",
    "BROM_venues.head()"
   ]
  },
  {
   "cell_type": "code",
   "execution_count": 24,
   "metadata": {},
   "outputs": [
    {
     "data": {
      "text/html": [
       "<div>\n",
       "<style scoped>\n",
       "    .dataframe tbody tr th:only-of-type {\n",
       "        vertical-align: middle;\n",
       "    }\n",
       "\n",
       "    .dataframe tbody tr th {\n",
       "        vertical-align: top;\n",
       "    }\n",
       "\n",
       "    .dataframe thead th {\n",
       "        text-align: right;\n",
       "    }\n",
       "</style>\n",
       "<table border=\"1\" class=\"dataframe\">\n",
       "  <thead>\n",
       "    <tr style=\"text-align: right;\">\n",
       "      <th></th>\n",
       "      <th>Neighborhood Latitude</th>\n",
       "      <th>Neighborhood Longitude</th>\n",
       "      <th>Venue</th>\n",
       "      <th>Venue Latitude</th>\n",
       "      <th>Venue Longitude</th>\n",
       "      <th>Venue Category</th>\n",
       "    </tr>\n",
       "    <tr>\n",
       "      <th>Neighborhood</th>\n",
       "      <th></th>\n",
       "      <th></th>\n",
       "      <th></th>\n",
       "      <th></th>\n",
       "      <th></th>\n",
       "      <th></th>\n",
       "    </tr>\n",
       "  </thead>\n",
       "  <tbody>\n",
       "    <tr>\n",
       "      <th>Bickley</th>\n",
       "      <td>4</td>\n",
       "      <td>4</td>\n",
       "      <td>4</td>\n",
       "      <td>4</td>\n",
       "      <td>4</td>\n",
       "      <td>4</td>\n",
       "    </tr>\n",
       "    <tr>\n",
       "      <th>Biggin Hill</th>\n",
       "      <td>4</td>\n",
       "      <td>4</td>\n",
       "      <td>4</td>\n",
       "      <td>4</td>\n",
       "      <td>4</td>\n",
       "      <td>4</td>\n",
       "    </tr>\n",
       "    <tr>\n",
       "      <th>Bromley Common &amp; Keston</th>\n",
       "      <td>5</td>\n",
       "      <td>5</td>\n",
       "      <td>5</td>\n",
       "      <td>5</td>\n",
       "      <td>5</td>\n",
       "      <td>5</td>\n",
       "    </tr>\n",
       "    <tr>\n",
       "      <th>Bromley Town</th>\n",
       "      <td>45</td>\n",
       "      <td>45</td>\n",
       "      <td>45</td>\n",
       "      <td>45</td>\n",
       "      <td>45</td>\n",
       "      <td>45</td>\n",
       "    </tr>\n",
       "    <tr>\n",
       "      <th>Chelsfield &amp; Pratts Bottom</th>\n",
       "      <td>3</td>\n",
       "      <td>3</td>\n",
       "      <td>3</td>\n",
       "      <td>3</td>\n",
       "      <td>3</td>\n",
       "      <td>3</td>\n",
       "    </tr>\n",
       "    <tr>\n",
       "      <th>Chislehurst</th>\n",
       "      <td>6</td>\n",
       "      <td>6</td>\n",
       "      <td>6</td>\n",
       "      <td>6</td>\n",
       "      <td>6</td>\n",
       "      <td>6</td>\n",
       "    </tr>\n",
       "    <tr>\n",
       "      <th>Copers Cope</th>\n",
       "      <td>4</td>\n",
       "      <td>4</td>\n",
       "      <td>4</td>\n",
       "      <td>4</td>\n",
       "      <td>4</td>\n",
       "      <td>4</td>\n",
       "    </tr>\n",
       "    <tr>\n",
       "      <th>Cray Valley East</th>\n",
       "      <td>28</td>\n",
       "      <td>28</td>\n",
       "      <td>28</td>\n",
       "      <td>28</td>\n",
       "      <td>28</td>\n",
       "      <td>28</td>\n",
       "    </tr>\n",
       "    <tr>\n",
       "      <th>Crystal Palace</th>\n",
       "      <td>22</td>\n",
       "      <td>22</td>\n",
       "      <td>22</td>\n",
       "      <td>22</td>\n",
       "      <td>22</td>\n",
       "      <td>22</td>\n",
       "    </tr>\n",
       "    <tr>\n",
       "      <th>Darwin</th>\n",
       "      <td>3</td>\n",
       "      <td>3</td>\n",
       "      <td>3</td>\n",
       "      <td>3</td>\n",
       "      <td>3</td>\n",
       "      <td>3</td>\n",
       "    </tr>\n",
       "    <tr>\n",
       "      <th>Farnborough &amp; Croftton</th>\n",
       "      <td>5</td>\n",
       "      <td>5</td>\n",
       "      <td>5</td>\n",
       "      <td>5</td>\n",
       "      <td>5</td>\n",
       "      <td>5</td>\n",
       "    </tr>\n",
       "    <tr>\n",
       "      <th>Hayes &amp; Coney Hall</th>\n",
       "      <td>5</td>\n",
       "      <td>5</td>\n",
       "      <td>5</td>\n",
       "      <td>5</td>\n",
       "      <td>5</td>\n",
       "      <td>5</td>\n",
       "    </tr>\n",
       "    <tr>\n",
       "      <th>Kelsey &amp; Eden Park</th>\n",
       "      <td>4</td>\n",
       "      <td>4</td>\n",
       "      <td>4</td>\n",
       "      <td>4</td>\n",
       "      <td>4</td>\n",
       "      <td>4</td>\n",
       "    </tr>\n",
       "    <tr>\n",
       "      <th>Mottingham &amp; Chislehurst North</th>\n",
       "      <td>4</td>\n",
       "      <td>4</td>\n",
       "      <td>4</td>\n",
       "      <td>4</td>\n",
       "      <td>4</td>\n",
       "      <td>4</td>\n",
       "    </tr>\n",
       "    <tr>\n",
       "      <th>Orpington</th>\n",
       "      <td>19</td>\n",
       "      <td>19</td>\n",
       "      <td>19</td>\n",
       "      <td>19</td>\n",
       "      <td>19</td>\n",
       "      <td>19</td>\n",
       "    </tr>\n",
       "    <tr>\n",
       "      <th>Penge &amp; Cator</th>\n",
       "      <td>17</td>\n",
       "      <td>17</td>\n",
       "      <td>17</td>\n",
       "      <td>17</td>\n",
       "      <td>17</td>\n",
       "      <td>17</td>\n",
       "    </tr>\n",
       "    <tr>\n",
       "      <th>Petts Wood &amp; Knoll</th>\n",
       "      <td>3</td>\n",
       "      <td>3</td>\n",
       "      <td>3</td>\n",
       "      <td>3</td>\n",
       "      <td>3</td>\n",
       "      <td>3</td>\n",
       "    </tr>\n",
       "    <tr>\n",
       "      <th>Plaistow &amp; Sunbridge</th>\n",
       "      <td>4</td>\n",
       "      <td>4</td>\n",
       "      <td>4</td>\n",
       "      <td>4</td>\n",
       "      <td>4</td>\n",
       "      <td>4</td>\n",
       "    </tr>\n",
       "    <tr>\n",
       "      <th>Shortlangs</th>\n",
       "      <td>5</td>\n",
       "      <td>5</td>\n",
       "      <td>5</td>\n",
       "      <td>5</td>\n",
       "      <td>5</td>\n",
       "      <td>5</td>\n",
       "    </tr>\n",
       "    <tr>\n",
       "      <th>West Wickham</th>\n",
       "      <td>3</td>\n",
       "      <td>3</td>\n",
       "      <td>3</td>\n",
       "      <td>3</td>\n",
       "      <td>3</td>\n",
       "      <td>3</td>\n",
       "    </tr>\n",
       "  </tbody>\n",
       "</table>\n",
       "</div>"
      ],
      "text/plain": [
       "                                Neighborhood Latitude  Neighborhood Longitude  \\\n",
       "Neighborhood                                                                    \n",
       "Bickley                                             4                       4   \n",
       "Biggin Hill                                         4                       4   \n",
       "Bromley Common & Keston                             5                       5   \n",
       "Bromley Town                                       45                      45   \n",
       "Chelsfield & Pratts Bottom                          3                       3   \n",
       "Chislehurst                                         6                       6   \n",
       "Copers Cope                                         4                       4   \n",
       "Cray Valley East                                   28                      28   \n",
       "Crystal Palace                                     22                      22   \n",
       "Darwin                                              3                       3   \n",
       "Farnborough & Croftton                              5                       5   \n",
       "Hayes & Coney Hall                                  5                       5   \n",
       "Kelsey & Eden Park                                  4                       4   \n",
       "Mottingham & Chislehurst North                      4                       4   \n",
       "Orpington                                          19                      19   \n",
       "Penge & Cator                                      17                      17   \n",
       "Petts Wood & Knoll                                  3                       3   \n",
       "Plaistow & Sunbridge                                4                       4   \n",
       "Shortlangs                                          5                       5   \n",
       "West Wickham                                        3                       3   \n",
       "\n",
       "                                Venue  Venue Latitude  Venue Longitude  \\\n",
       "Neighborhood                                                             \n",
       "Bickley                             4               4                4   \n",
       "Biggin Hill                         4               4                4   \n",
       "Bromley Common & Keston             5               5                5   \n",
       "Bromley Town                       45              45               45   \n",
       "Chelsfield & Pratts Bottom          3               3                3   \n",
       "Chislehurst                         6               6                6   \n",
       "Copers Cope                         4               4                4   \n",
       "Cray Valley East                   28              28               28   \n",
       "Crystal Palace                     22              22               22   \n",
       "Darwin                              3               3                3   \n",
       "Farnborough & Croftton              5               5                5   \n",
       "Hayes & Coney Hall                  5               5                5   \n",
       "Kelsey & Eden Park                  4               4                4   \n",
       "Mottingham & Chislehurst North      4               4                4   \n",
       "Orpington                          19              19               19   \n",
       "Penge & Cator                      17              17               17   \n",
       "Petts Wood & Knoll                  3               3                3   \n",
       "Plaistow & Sunbridge                4               4                4   \n",
       "Shortlangs                          5               5                5   \n",
       "West Wickham                        3               3                3   \n",
       "\n",
       "                                Venue Category  \n",
       "Neighborhood                                    \n",
       "Bickley                                      4  \n",
       "Biggin Hill                                  4  \n",
       "Bromley Common & Keston                      5  \n",
       "Bromley Town                                45  \n",
       "Chelsfield & Pratts Bottom                   3  \n",
       "Chislehurst                                  6  \n",
       "Copers Cope                                  4  \n",
       "Cray Valley East                            28  \n",
       "Crystal Palace                              22  \n",
       "Darwin                                       3  \n",
       "Farnborough & Croftton                       5  \n",
       "Hayes & Coney Hall                           5  \n",
       "Kelsey & Eden Park                           4  \n",
       "Mottingham & Chislehurst North               4  \n",
       "Orpington                                   19  \n",
       "Penge & Cator                               17  \n",
       "Petts Wood & Knoll                           3  \n",
       "Plaistow & Sunbridge                         4  \n",
       "Shortlangs                                   5  \n",
       "West Wickham                                 3  "
      ]
     },
     "execution_count": 24,
     "metadata": {},
     "output_type": "execute_result"
    }
   ],
   "source": [
    "BROM_venues.groupby('Neighborhood').count()"
   ]
  },
  {
   "cell_type": "code",
   "execution_count": 25,
   "metadata": {
    "scrolled": true
   },
   "outputs": [
    {
     "name": "stdout",
     "output_type": "stream",
     "text": [
      "There are 76 uniques venue categories at Bromley.\n"
     ]
    }
   ],
   "source": [
    "print('There are {} uniques venue categories at Bromley.'.format(len(BROM_venues['Venue Category'].unique())))"
   ]
  },
  {
   "cell_type": "markdown",
   "metadata": {},
   "source": [
    "####  In summary:\n",
    "* Total venues in Tower Hamlet neighbourhoods returned by Foursquare: **520**\n",
    "* Total venues in Bromley neighbourhoods returned by Foursquare: **193**\n",
    "* Total unique venue categories in Tower Hamlet = **156**\n",
    "* Total unique venue categories in Bromley = **76**\n",
    "* Tower Hamlet venues dataframe is called: **TH_venues**\n",
    "* Tower Hamlet venues dataframe is called: **BROM_venues**"
   ]
  },
  {
   "cell_type": "markdown",
   "metadata": {},
   "source": [
    "## <span style=\"color:darkred\">3. Methodology <a name=\"methodology\"></a></span>"
   ]
  },
  {
   "cell_type": "markdown",
   "metadata": {},
   "source": [
    "In this project, we will be only concentrating the two boroughs with the largest poverty rate gaps. \n",
    "\n",
    "In the first step, we will be looking into the top 5 most common venues for each of the borough, this will provides us with an overview of the types of venues popular in the boroughs. \n",
    "\n",
    "Second steps we will be clustering the neighbourhood for each borough to investigate the cluster formations \n",
    "\n",
    "in third and final steps, we will be drill into each of cluster to obtained the reviews of some of the venues to seek the quality of service at venues in this separate borough.\n",
    "\n",
    "With these analysis, we will be able to drawn some conclusions on how poverty rate in particular borough impacting the venues in the areas using Foursquare geospatial data."
   ]
  },
  {
   "cell_type": "markdown",
   "metadata": {},
   "source": [
    "======================================================================================================================== "
   ]
  },
  {
   "cell_type": "markdown",
   "metadata": {},
   "source": [
    "## <span style=\"color:darkred\">4. Analysis <a name=\"analysis\"></a></span>"
   ]
  },
  {
   "cell_type": "markdown",
   "metadata": {},
   "source": [
    "### Analyse Each Borough "
   ]
  },
  {
   "cell_type": "markdown",
   "metadata": {},
   "source": [
    "======================================================================================================================== "
   ]
  },
  {
   "cell_type": "markdown",
   "metadata": {},
   "source": [
    "## <span style=\"color:darkred\">5. Results and Discussion <a name=\"results\"></a></span>"
   ]
  },
  {
   "cell_type": "markdown",
   "metadata": {},
   "source": [
    "======================================================================================================================== "
   ]
  },
  {
   "cell_type": "markdown",
   "metadata": {},
   "source": [
    "## <span style=\"color:darkred\">6. Conclusions <a name=\"conclusion\"></a></span>"
   ]
  },
  {
   "cell_type": "markdown",
   "metadata": {},
   "source": [
    "======================================================================================================================== "
   ]
  },
  {
   "cell_type": "code",
   "execution_count": null,
   "metadata": {},
   "outputs": [],
   "source": []
  },
  {
   "cell_type": "code",
   "execution_count": null,
   "metadata": {},
   "outputs": [],
   "source": []
  },
  {
   "cell_type": "code",
   "execution_count": null,
   "metadata": {},
   "outputs": [],
   "source": []
  }
 ],
 "metadata": {
  "kernelspec": {
   "display_name": "Python 3",
   "language": "python",
   "name": "python3"
  },
  "language_info": {
   "codemirror_mode": {
    "name": "ipython",
    "version": 3
   },
   "file_extension": ".py",
   "mimetype": "text/x-python",
   "name": "python",
   "nbconvert_exporter": "python",
   "pygments_lexer": "ipython3",
   "version": "3.7.2"
  }
 },
 "nbformat": 4,
 "nbformat_minor": 2
}
